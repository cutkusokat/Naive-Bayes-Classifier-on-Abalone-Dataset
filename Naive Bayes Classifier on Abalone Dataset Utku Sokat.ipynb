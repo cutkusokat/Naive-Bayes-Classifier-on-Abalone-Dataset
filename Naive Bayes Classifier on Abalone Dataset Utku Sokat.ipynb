{
 "cells": [
  {
   "cell_type": "code",
   "execution_count": 23,
   "id": "ee7719c4",
   "metadata": {},
   "outputs": [],
   "source": [
    "#Import libraries for calculations and visualization"
   ]
  },
  {
   "cell_type": "code",
   "execution_count": 125,
   "id": "eb6596b7",
   "metadata": {},
   "outputs": [],
   "source": [
    "import numpy as np\n",
    "import seaborn as sns\n",
    "import pandas as pd\n",
    "import math as mt\n",
    "import matplotlib.pyplot as plt\n",
    "import plotly.graph_objects as go\n",
    "import itertools"
   ]
  },
  {
   "cell_type": "code",
   "execution_count": 126,
   "id": "a073e46a",
   "metadata": {},
   "outputs": [],
   "source": [
    "#set the column names of the data taken from http://archive.ics.uci.edu/ml/datasets/Abalone\n",
    "#read the csv, txt file names abalone_dataset.txt\n",
    "\n",
    "column_names = [\"Sex\",\"Length\",\"Diameter\",\"Height\",\"Whole Weight\",\"Shucked Weight\",\"Viscera Weight\",\"Shell Weight\", \"y\"]\n",
    "data = pd.read_csv('abalone_dataset.txt',sep=\"\\t\",names=column_names)"
   ]
  },
  {
   "cell_type": "code",
   "execution_count": 127,
   "id": "6bfd50e3",
   "metadata": {},
   "outputs": [
    {
     "data": {
      "text/html": [
       "<div>\n",
       "<style scoped>\n",
       "    .dataframe tbody tr th:only-of-type {\n",
       "        vertical-align: middle;\n",
       "    }\n",
       "\n",
       "    .dataframe tbody tr th {\n",
       "        vertical-align: top;\n",
       "    }\n",
       "\n",
       "    .dataframe thead th {\n",
       "        text-align: right;\n",
       "    }\n",
       "</style>\n",
       "<table border=\"1\" class=\"dataframe\">\n",
       "  <thead>\n",
       "    <tr style=\"text-align: right;\">\n",
       "      <th></th>\n",
       "      <th>Sex</th>\n",
       "      <th>Length</th>\n",
       "      <th>Diameter</th>\n",
       "      <th>Height</th>\n",
       "      <th>Whole Weight</th>\n",
       "      <th>Shucked Weight</th>\n",
       "      <th>Viscera Weight</th>\n",
       "      <th>Shell Weight</th>\n",
       "      <th>y</th>\n",
       "    </tr>\n",
       "  </thead>\n",
       "  <tbody>\n",
       "    <tr>\n",
       "      <th>0</th>\n",
       "      <td>M</td>\n",
       "      <td>0.455</td>\n",
       "      <td>0.365</td>\n",
       "      <td>0.095</td>\n",
       "      <td>0.5140</td>\n",
       "      <td>0.2245</td>\n",
       "      <td>0.1010</td>\n",
       "      <td>0.1500</td>\n",
       "      <td>3</td>\n",
       "    </tr>\n",
       "    <tr>\n",
       "      <th>1</th>\n",
       "      <td>M</td>\n",
       "      <td>0.350</td>\n",
       "      <td>0.265</td>\n",
       "      <td>0.090</td>\n",
       "      <td>0.2255</td>\n",
       "      <td>0.0995</td>\n",
       "      <td>0.0485</td>\n",
       "      <td>0.0700</td>\n",
       "      <td>1</td>\n",
       "    </tr>\n",
       "    <tr>\n",
       "      <th>2</th>\n",
       "      <td>F</td>\n",
       "      <td>0.530</td>\n",
       "      <td>0.420</td>\n",
       "      <td>0.135</td>\n",
       "      <td>0.6770</td>\n",
       "      <td>0.2565</td>\n",
       "      <td>0.1415</td>\n",
       "      <td>0.2100</td>\n",
       "      <td>2</td>\n",
       "    </tr>\n",
       "    <tr>\n",
       "      <th>3</th>\n",
       "      <td>M</td>\n",
       "      <td>0.440</td>\n",
       "      <td>0.365</td>\n",
       "      <td>0.125</td>\n",
       "      <td>0.5160</td>\n",
       "      <td>0.2155</td>\n",
       "      <td>0.1140</td>\n",
       "      <td>0.1550</td>\n",
       "      <td>2</td>\n",
       "    </tr>\n",
       "    <tr>\n",
       "      <th>4</th>\n",
       "      <td>I</td>\n",
       "      <td>0.330</td>\n",
       "      <td>0.255</td>\n",
       "      <td>0.080</td>\n",
       "      <td>0.2050</td>\n",
       "      <td>0.0895</td>\n",
       "      <td>0.0395</td>\n",
       "      <td>0.0550</td>\n",
       "      <td>1</td>\n",
       "    </tr>\n",
       "    <tr>\n",
       "      <th>...</th>\n",
       "      <td>...</td>\n",
       "      <td>...</td>\n",
       "      <td>...</td>\n",
       "      <td>...</td>\n",
       "      <td>...</td>\n",
       "      <td>...</td>\n",
       "      <td>...</td>\n",
       "      <td>...</td>\n",
       "      <td>...</td>\n",
       "    </tr>\n",
       "    <tr>\n",
       "      <th>4172</th>\n",
       "      <td>F</td>\n",
       "      <td>0.565</td>\n",
       "      <td>0.450</td>\n",
       "      <td>0.165</td>\n",
       "      <td>0.8870</td>\n",
       "      <td>0.3700</td>\n",
       "      <td>0.2390</td>\n",
       "      <td>0.2490</td>\n",
       "      <td>2</td>\n",
       "    </tr>\n",
       "    <tr>\n",
       "      <th>4173</th>\n",
       "      <td>M</td>\n",
       "      <td>0.590</td>\n",
       "      <td>0.440</td>\n",
       "      <td>0.135</td>\n",
       "      <td>0.9660</td>\n",
       "      <td>0.4390</td>\n",
       "      <td>0.2145</td>\n",
       "      <td>0.2605</td>\n",
       "      <td>2</td>\n",
       "    </tr>\n",
       "    <tr>\n",
       "      <th>4174</th>\n",
       "      <td>M</td>\n",
       "      <td>0.600</td>\n",
       "      <td>0.475</td>\n",
       "      <td>0.205</td>\n",
       "      <td>1.1760</td>\n",
       "      <td>0.5255</td>\n",
       "      <td>0.2875</td>\n",
       "      <td>0.3080</td>\n",
       "      <td>2</td>\n",
       "    </tr>\n",
       "    <tr>\n",
       "      <th>4175</th>\n",
       "      <td>F</td>\n",
       "      <td>0.625</td>\n",
       "      <td>0.485</td>\n",
       "      <td>0.150</td>\n",
       "      <td>1.0945</td>\n",
       "      <td>0.5310</td>\n",
       "      <td>0.2610</td>\n",
       "      <td>0.2960</td>\n",
       "      <td>2</td>\n",
       "    </tr>\n",
       "    <tr>\n",
       "      <th>4176</th>\n",
       "      <td>M</td>\n",
       "      <td>0.710</td>\n",
       "      <td>0.555</td>\n",
       "      <td>0.195</td>\n",
       "      <td>1.9485</td>\n",
       "      <td>0.9455</td>\n",
       "      <td>0.3765</td>\n",
       "      <td>0.4950</td>\n",
       "      <td>3</td>\n",
       "    </tr>\n",
       "  </tbody>\n",
       "</table>\n",
       "<p>4177 rows × 9 columns</p>\n",
       "</div>"
      ],
      "text/plain": [
       "     Sex  Length  Diameter  Height  Whole Weight  Shucked Weight  \\\n",
       "0      M   0.455     0.365   0.095        0.5140          0.2245   \n",
       "1      M   0.350     0.265   0.090        0.2255          0.0995   \n",
       "2      F   0.530     0.420   0.135        0.6770          0.2565   \n",
       "3      M   0.440     0.365   0.125        0.5160          0.2155   \n",
       "4      I   0.330     0.255   0.080        0.2050          0.0895   \n",
       "...   ..     ...       ...     ...           ...             ...   \n",
       "4172   F   0.565     0.450   0.165        0.8870          0.3700   \n",
       "4173   M   0.590     0.440   0.135        0.9660          0.4390   \n",
       "4174   M   0.600     0.475   0.205        1.1760          0.5255   \n",
       "4175   F   0.625     0.485   0.150        1.0945          0.5310   \n",
       "4176   M   0.710     0.555   0.195        1.9485          0.9455   \n",
       "\n",
       "      Viscera Weight  Shell Weight  y  \n",
       "0             0.1010        0.1500  3  \n",
       "1             0.0485        0.0700  1  \n",
       "2             0.1415        0.2100  2  \n",
       "3             0.1140        0.1550  2  \n",
       "4             0.0395        0.0550  1  \n",
       "...              ...           ... ..  \n",
       "4172          0.2390        0.2490  2  \n",
       "4173          0.2145        0.2605  2  \n",
       "4174          0.2875        0.3080  2  \n",
       "4175          0.2610        0.2960  2  \n",
       "4176          0.3765        0.4950  3  \n",
       "\n",
       "[4177 rows x 9 columns]"
      ]
     },
     "execution_count": 127,
     "metadata": {},
     "output_type": "execute_result"
    }
   ],
   "source": [
    "#Overview of the data\n",
    "data"
   ]
  },
  {
   "cell_type": "code",
   "execution_count": 128,
   "id": "08de99f3",
   "metadata": {},
   "outputs": [],
   "source": [
    "## split the data into 2 parts that refers to training set and validation set\n",
    "## set the size of training set 100 and 1000 as the question describes\n",
    "\n",
    "def split_train_validation(data,n):\n",
    "    train       = data.sample(n=n)\n",
    "    validation  = data.drop(train.index)\n",
    "    \n",
    "    return train,validation"
   ]
  },
  {
   "cell_type": "code",
   "execution_count": 129,
   "id": "0c10ac49",
   "metadata": {},
   "outputs": [
    {
     "data": {
      "text/html": [
       "<div>\n",
       "<style scoped>\n",
       "    .dataframe tbody tr th:only-of-type {\n",
       "        vertical-align: middle;\n",
       "    }\n",
       "\n",
       "    .dataframe tbody tr th {\n",
       "        vertical-align: top;\n",
       "    }\n",
       "\n",
       "    .dataframe thead th {\n",
       "        text-align: right;\n",
       "    }\n",
       "</style>\n",
       "<table border=\"1\" class=\"dataframe\">\n",
       "  <thead>\n",
       "    <tr style=\"text-align: right;\">\n",
       "      <th></th>\n",
       "      <th>Sex</th>\n",
       "      <th>Length</th>\n",
       "      <th>Diameter</th>\n",
       "      <th>Height</th>\n",
       "      <th>Whole Weight</th>\n",
       "      <th>Shucked Weight</th>\n",
       "      <th>Viscera Weight</th>\n",
       "      <th>Shell Weight</th>\n",
       "      <th>y</th>\n",
       "    </tr>\n",
       "  </thead>\n",
       "  <tbody>\n",
       "    <tr>\n",
       "      <th>0</th>\n",
       "      <td>M</td>\n",
       "      <td>0.455</td>\n",
       "      <td>0.365</td>\n",
       "      <td>0.095</td>\n",
       "      <td>0.5140</td>\n",
       "      <td>0.2245</td>\n",
       "      <td>0.1010</td>\n",
       "      <td>0.1500</td>\n",
       "      <td>3</td>\n",
       "    </tr>\n",
       "    <tr>\n",
       "      <th>1</th>\n",
       "      <td>M</td>\n",
       "      <td>0.350</td>\n",
       "      <td>0.265</td>\n",
       "      <td>0.090</td>\n",
       "      <td>0.2255</td>\n",
       "      <td>0.0995</td>\n",
       "      <td>0.0485</td>\n",
       "      <td>0.0700</td>\n",
       "      <td>1</td>\n",
       "    </tr>\n",
       "    <tr>\n",
       "      <th>2</th>\n",
       "      <td>F</td>\n",
       "      <td>0.530</td>\n",
       "      <td>0.420</td>\n",
       "      <td>0.135</td>\n",
       "      <td>0.6770</td>\n",
       "      <td>0.2565</td>\n",
       "      <td>0.1415</td>\n",
       "      <td>0.2100</td>\n",
       "      <td>2</td>\n",
       "    </tr>\n",
       "    <tr>\n",
       "      <th>3</th>\n",
       "      <td>M</td>\n",
       "      <td>0.440</td>\n",
       "      <td>0.365</td>\n",
       "      <td>0.125</td>\n",
       "      <td>0.5160</td>\n",
       "      <td>0.2155</td>\n",
       "      <td>0.1140</td>\n",
       "      <td>0.1550</td>\n",
       "      <td>2</td>\n",
       "    </tr>\n",
       "    <tr>\n",
       "      <th>4</th>\n",
       "      <td>I</td>\n",
       "      <td>0.330</td>\n",
       "      <td>0.255</td>\n",
       "      <td>0.080</td>\n",
       "      <td>0.2050</td>\n",
       "      <td>0.0895</td>\n",
       "      <td>0.0395</td>\n",
       "      <td>0.0550</td>\n",
       "      <td>1</td>\n",
       "    </tr>\n",
       "    <tr>\n",
       "      <th>...</th>\n",
       "      <td>...</td>\n",
       "      <td>...</td>\n",
       "      <td>...</td>\n",
       "      <td>...</td>\n",
       "      <td>...</td>\n",
       "      <td>...</td>\n",
       "      <td>...</td>\n",
       "      <td>...</td>\n",
       "      <td>...</td>\n",
       "    </tr>\n",
       "    <tr>\n",
       "      <th>3172</th>\n",
       "      <td>M</td>\n",
       "      <td>0.500</td>\n",
       "      <td>0.380</td>\n",
       "      <td>0.125</td>\n",
       "      <td>0.5770</td>\n",
       "      <td>0.2690</td>\n",
       "      <td>0.1265</td>\n",
       "      <td>0.1535</td>\n",
       "      <td>2</td>\n",
       "    </tr>\n",
       "    <tr>\n",
       "      <th>3173</th>\n",
       "      <td>M</td>\n",
       "      <td>0.520</td>\n",
       "      <td>0.385</td>\n",
       "      <td>0.165</td>\n",
       "      <td>0.7910</td>\n",
       "      <td>0.3750</td>\n",
       "      <td>0.1800</td>\n",
       "      <td>0.1815</td>\n",
       "      <td>2</td>\n",
       "    </tr>\n",
       "    <tr>\n",
       "      <th>3174</th>\n",
       "      <td>M</td>\n",
       "      <td>0.550</td>\n",
       "      <td>0.430</td>\n",
       "      <td>0.130</td>\n",
       "      <td>0.8395</td>\n",
       "      <td>0.3155</td>\n",
       "      <td>0.1955</td>\n",
       "      <td>0.2405</td>\n",
       "      <td>2</td>\n",
       "    </tr>\n",
       "    <tr>\n",
       "      <th>3175</th>\n",
       "      <td>F</td>\n",
       "      <td>0.565</td>\n",
       "      <td>0.450</td>\n",
       "      <td>0.165</td>\n",
       "      <td>0.8870</td>\n",
       "      <td>0.3700</td>\n",
       "      <td>0.2390</td>\n",
       "      <td>0.2490</td>\n",
       "      <td>2</td>\n",
       "    </tr>\n",
       "    <tr>\n",
       "      <th>3176</th>\n",
       "      <td>M</td>\n",
       "      <td>0.710</td>\n",
       "      <td>0.555</td>\n",
       "      <td>0.195</td>\n",
       "      <td>1.9485</td>\n",
       "      <td>0.9455</td>\n",
       "      <td>0.3765</td>\n",
       "      <td>0.4950</td>\n",
       "      <td>3</td>\n",
       "    </tr>\n",
       "  </tbody>\n",
       "</table>\n",
       "<p>3177 rows × 9 columns</p>\n",
       "</div>"
      ],
      "text/plain": [
       "     Sex  Length  Diameter  Height  Whole Weight  Shucked Weight  \\\n",
       "0      M   0.455     0.365   0.095        0.5140          0.2245   \n",
       "1      M   0.350     0.265   0.090        0.2255          0.0995   \n",
       "2      F   0.530     0.420   0.135        0.6770          0.2565   \n",
       "3      M   0.440     0.365   0.125        0.5160          0.2155   \n",
       "4      I   0.330     0.255   0.080        0.2050          0.0895   \n",
       "...   ..     ...       ...     ...           ...             ...   \n",
       "3172   M   0.500     0.380   0.125        0.5770          0.2690   \n",
       "3173   M   0.520     0.385   0.165        0.7910          0.3750   \n",
       "3174   M   0.550     0.430   0.130        0.8395          0.3155   \n",
       "3175   F   0.565     0.450   0.165        0.8870          0.3700   \n",
       "3176   M   0.710     0.555   0.195        1.9485          0.9455   \n",
       "\n",
       "      Viscera Weight  Shell Weight  y  \n",
       "0             0.1010        0.1500  3  \n",
       "1             0.0485        0.0700  1  \n",
       "2             0.1415        0.2100  2  \n",
       "3             0.1140        0.1550  2  \n",
       "4             0.0395        0.0550  1  \n",
       "...              ...           ... ..  \n",
       "3172          0.1265        0.1535  2  \n",
       "3173          0.1800        0.1815  2  \n",
       "3174          0.1955        0.2405  2  \n",
       "3175          0.2390        0.2490  2  \n",
       "3176          0.3765        0.4950  3  \n",
       "\n",
       "[3177 rows x 9 columns]"
      ]
     },
     "execution_count": 129,
     "metadata": {},
     "output_type": "execute_result"
    }
   ],
   "source": [
    "## the defined split_train_validation function to obtain train & validation sets for the size 100 and 1000.\n",
    "\n",
    "train100,validation100 = split_train_validation(data,100)\n",
    "train1000,validation1000 = split_train_validation(data,1000)\n",
    "\n",
    "## set the indexes of train and validation sets ascending and get rid of the old specific indexes\n",
    "train100.reset_index(drop=True)\n",
    "validation100.reset_index(drop=True)\n",
    "\n",
    "train1000.reset_index(drop=True)\n",
    "validation1000.reset_index(drop=True)\n"
   ]
  },
  {
   "cell_type": "code",
   "execution_count": 130,
   "id": "2bece686",
   "metadata": {},
   "outputs": [],
   "source": [
    "## calculate the prior likelihoods for y occurances\n",
    "\n",
    "def calculate_y_prior(train):\n",
    "    y_prior = {\n",
    "        1: 0,\n",
    "        2: 0,\n",
    "        3: 0\n",
    "    }\n",
    "    \n",
    "    counts = train[\"y\"].value_counts(ascending=True)\n",
    "                \n",
    "    total_num = len(train)\n",
    "    y_prior[1] = round((counts[1]/total_num), 4) \n",
    "    y_prior[2] = round((counts[2]/total_num), 4) \n",
    "    y_prior[3] = round((counts[3]/total_num), 4) \n",
    "    \n",
    "    return y_prior"
   ]
  },
  {
   "cell_type": "code",
   "execution_count": 131,
   "id": "f9d332ab",
   "metadata": {
    "scrolled": true
   },
   "outputs": [
    {
     "data": {
      "text/plain": [
       "{1: 0.2009, 2: 0.5693, 3: 0.2298}"
      ]
     },
     "execution_count": 131,
     "metadata": {},
     "output_type": "execute_result"
    }
   ],
   "source": [
    "# see the prior likelihoods of y = (1:, 2:, 3:)\n",
    "y_prior = calculate_y_prior(data)\n",
    "y_prior"
   ]
  },
  {
   "cell_type": "code",
   "execution_count": 132,
   "id": "e18f0254",
   "metadata": {},
   "outputs": [],
   "source": [
    "## calculate sex likelihood for all options i.e.\n",
    "# Number of instances that are female and belongs to 3 or Number of instances that are male and belongs to 1.\n",
    "\n",
    "def calculate_sex_likelihoods(train):\n",
    "    sex_likelihoods = {\n",
    "      \"F\": [0,0,0,0],\n",
    "      \"I\": [0,0,0,0],\n",
    "      \"M\": [0,0,0,0]\n",
    "    }\n",
    "\n",
    "    for i in range(len(train)):\n",
    "        for j in range(1,4):\n",
    "            if(train.iat[i,0]==\"F\" and train.iat[i,8]==j): \n",
    "                sex_likelihoods[\"F\"][j] += 1\n",
    "            elif(train.iat[i,0]==\"I\" and train.iat[i,8]==j): \n",
    "                sex_likelihoods[\"I\"][j] += 1\n",
    "            elif(train.iat[i,0]==\"M\" and train.iat[i,8]==j): \n",
    "                sex_likelihoods[\"M\"][j] += 1\n",
    "\n",
    "    y_numbers = train['y'].value_counts(ascending=True)\n",
    "\n",
    "    array = [0,y_numbers[1],y_numbers[2],y_numbers[3]]\n",
    "    for i in range(1,4):\n",
    "        sex_likelihoods[\"F\"][i] = round((sex_likelihoods[\"F\"][i]/array[i]),4)\n",
    "        sex_likelihoods[\"I\"][i] = round((sex_likelihoods[\"I\"][i]/array[i]),4)\n",
    "        sex_likelihoods[\"M\"][i] = round((sex_likelihoods[\"M\"][i]/array[i]),4)\n",
    "\n",
    "    return sex_likelihoods\n",
    "\n",
    "sex_likelihoods = calculate_sex_likelihoods(train100)"
   ]
  },
  {
   "cell_type": "code",
   "execution_count": 133,
   "id": "5335db39",
   "metadata": {},
   "outputs": [],
   "source": [
    "# calculate mean values and std. dev values for each row(for each criteria) and calculate it for each possible age i,e 1, 2, 3.\n",
    "# the result of the calculated values should ve like mean of length [0, mean values for 1, for 2, for 3] and same for std. dev.\n",
    "\n",
    "def calculate_train_values(train):\n",
    "    train_values = {\n",
    "        \"length\"    : { 1: [], 2: [], 3: [], \"mean\":[0,0,0,0], \"std\":[0,0,0,0]},\n",
    "        \"diameter\"  : { 1: [], 2: [], 3: [], \"mean\":[0,0,0,0], \"std\":[0,0,0,0]},\n",
    "        \"height\"    : { 1: [], 2: [], 3: [], \"mean\":[0,0,0,0], \"std\":[0,0,0,0]},\n",
    "        \"whole_w\"   : { 1: [], 2: [], 3: [], \"mean\":[0,0,0,0], \"std\":[0,0,0,0]},\n",
    "        \"shucked_w\" : { 1: [], 2: [], 3: [], \"mean\":[0,0,0,0], \"std\":[0,0,0,0]},\n",
    "        \"viscera_w\" : { 1: [], 2: [], 3: [], \"mean\":[0,0,0,0], \"std\":[0,0,0,0]},\n",
    "        \"shell_w\"   : { 1: [], 2: [], 3: [], \"mean\":[0,0,0,0], \"std\":[0,0,0,0]}\n",
    "    }\n",
    "#get the column names (keys of the train_values) and store in the list keys\n",
    "    keys = [] \n",
    "    for key in train_values.keys(): \n",
    "        keys.append(key) \n",
    "#find the y values of each row and put the values of keys accordingly to the train_values data set\n",
    "# in brief ie. find the 1-2-3 values for the key \"length\" and append the values acoordingly to the \"length\" row of train_values\n",
    "    for i in range(len(train)):\n",
    "        for j in range(1,4):\n",
    "            if(train.iat[i,8]==j): \n",
    "                for index in range(len(keys)):\n",
    "                    train_values[keys[index]][j].append(train.iat[i,(index+1)])# index+1 bcz thre is sex column in train100 set\n",
    "## calculate mean and std.dev. values for each row and for each ouput ie. 1-2-3\n",
    "    for i in range(1,4):\n",
    "        for index in range(len(keys)):\n",
    "            train_values[keys[index]][\"mean\"][i] = round((np.mean(train_values[keys[index]][i])),4)\n",
    "            train_values[keys[index]][\"std\"][i]  = round((np.std(train_values[keys[index]][i])),4)   \n",
    "    return train_values,keys\n",
    "\n",
    "train_values, keys = calculate_train_values(train100)"
   ]
  },
  {
   "cell_type": "code",
   "execution_count": 134,
   "id": "3a0284b1",
   "metadata": {},
   "outputs": [
    {
     "data": {
      "text/plain": [
       "1"
      ]
     },
     "execution_count": 134,
     "metadata": {},
     "output_type": "execute_result"
    }
   ],
   "source": [
    "range(len(train100))\n",
    "train100.iat[1,8]"
   ]
  },
  {
   "cell_type": "code",
   "execution_count": 135,
   "id": "a75e139c",
   "metadata": {},
   "outputs": [],
   "source": [
    "# build the function for gaussian distribution to use in the prediction\n",
    "\n",
    "def calculate_probability_density(num,mean,std):\n",
    "    equation  = (1 / (mt.sqrt(2*mt.pi)*std)) * mt.exp(-(mt.pow(num-mean,2))/(2*mt.pow(std,2)))\n",
    "    \n",
    "    return round((equation),4) "
   ]
  },
  {
   "cell_type": "code",
   "execution_count": 136,
   "id": "a525f591",
   "metadata": {},
   "outputs": [],
   "source": [
    "# calculate the probabilities assuming gaussian distribution.\n",
    "# predict the classification of each sample by multiplying sex_likelihoods, probabilities obtained by gaussian distribution (for \n",
    "#    length, diameter, height, and other columns) and prior likelihood of each class than choose the one with the max probability\n",
    "\n",
    "\n",
    "def predict_gaussian(test,sex_likelihoods,train_values,y_prior,keys):\n",
    "    \n",
    "    predictions=[]\n",
    "    for row in range(len(test)): # calculate probabilities for each sample in the test set\n",
    "        elementPrediction= [0,1,1,1]\n",
    "\n",
    "        for i in range(1,4):\n",
    "            if  (test.iat[row,0] == \"M\"): elementPrediction[i] *= sex_likelihoods[\"M\"][i]\n",
    "            elif(test.iat[row,0] == \"I\"): elementPrediction[i] *= sex_likelihoods[\"I\"][i]\n",
    "            elif(test.iat[row,0] == \"F\"): elementPrediction[i] *= sex_likelihoods[\"F\"][i]\n",
    "\n",
    "            for index in range(len(keys)):\n",
    "                elementPrediction[i] *= calculate_probability_density(test.iat[row,index+1],train_values[keys[index]][\"mean\"][i],\n",
    "                                                          train_values[keys[index]][\"std\"][i])\n",
    "            elementPrediction[i] *= y_prior[i]\n",
    "            elementPrediction[i] = round((elementPrediction[i]),4)\n",
    "        predictions.append(elementPrediction.index(max(elementPrediction)))\n",
    "        \n",
    "    return predictions\n",
    "predictions = predict_gaussian(train100,sex_likelihoods,train_values,y_prior,keys)"
   ]
  },
  {
   "cell_type": "code",
   "execution_count": 191,
   "id": "83a8ecea",
   "metadata": {},
   "outputs": [
    {
     "data": {
      "text/plain": [
       "[3, 1, 3, 3, 3]"
      ]
     },
     "execution_count": 191,
     "metadata": {},
     "output_type": "execute_result"
    }
   ],
   "source": [
    "## take a look at the predictions\n",
    "predictions[0:5]"
   ]
  },
  {
   "cell_type": "code",
   "execution_count": 138,
   "id": "efbe7a89",
   "metadata": {},
   "outputs": [
    {
     "name": "stdout",
     "output_type": "stream",
     "text": [
      "confusion matrix:  [[14, 1, 0], [16, 14, 25], [3, 5, 22]]\n",
      "total correct classification :  50\n",
      "total missclassification  :  50\n",
      "accuracy  :  0.5\n"
     ]
    },
    {
     "data": {
      "text/plain": [
       "[[14, 1, 0], [16, 14, 25], [3, 5, 22]]"
      ]
     },
     "execution_count": 138,
     "metadata": {},
     "output_type": "execute_result"
    },
    {
     "data": {
      "image/png": "[encoded data removed]",
      "text/plain": [
       "<Figure size 432x288 with 2 Axes>"
      ]
     },
     "metadata": {
      "needs_background": "light"
     },
     "output_type": "display_data"
    }
   ],
   "source": [
    "## build the confusion matrix as requested in the question\n",
    "\n",
    "def result(predictions,validation):\n",
    "    confusion_matrix = [[0,0,0],[0,0,0],[0,0,0]] # the # of classes are 3 so confusion matrix should be 3x3\n",
    "    \n",
    "    if(len(predictions) != len(validation)):\n",
    "        print(\"Length is not true\")\n",
    "    else:\n",
    "        for i in range(len(validation)):\n",
    "            for item in range(1,4):\n",
    "                if(validation.iat[i,8] == item):\n",
    "                    confusion_matrix[item-1][predictions[i]-1] +=1\n",
    "    true_classification = confusion_matrix[0][0] + confusion_matrix[1][1] + confusion_matrix[2][2]\n",
    "    miss_classification = len(validation) - true_classification\n",
    "    accuracy            = true_classification / len(validation)\n",
    "    print(\"confusion matrix: \",confusion_matrix)\n",
    "    print(\"total correct classification : \",true_classification)\n",
    "    print(\"total missclassification  : \",miss_classification)\n",
    "    print(\"accuracy  : \",accuracy)\n",
    "    \n",
    "    classes = [\"Young\",\"MiddleAged\", \"Old\"]\n",
    "    \n",
    "    s = sns.heatmap(confusion_matrix, annot=True, xticklabels=classes, \n",
    "            yticklabels=classes, fmt = \"d\", cmap='Blues')\n",
    "    s.set_xlabel('Predicted', fontsize=10)\n",
    "    s.set_ylabel('Actual', fontsize=10)\n",
    "\n",
    "    return confusion_matrix\n",
    "\n",
    "result(predictions,train100)\n"
   ]
  },
  {
   "cell_type": "code",
   "execution_count": 139,
   "id": "0c4ae07a",
   "metadata": {},
   "outputs": [],
   "source": [
    "## calculate all of the above calculaitons \n",
    "\n",
    "\n",
    "def gaussian_distribution(train,validation,option):    \n",
    "    \n",
    "    y_prior = calculate_y_prior(train)\n",
    "    sex_likelihoods = calculate_sex_likelihoods(train)\n",
    "    train_values,keys = calculate_train_values(train)\n",
    "    \n",
    "    if(option == \"Validation\"): predict_set = validation\n",
    "    elif(option == \"Train\"): predict_set = train\n",
    "        \n",
    "    predictions = predict_gaussian(predict_set,sex_likelihoods,train_values,y_prior,keys)\n",
    "    confusion_matrix = result(predictions,predict_set)\n",
    "    \n",
    "    return confusion_matrix"
   ]
  },
  {
   "cell_type": "code",
   "execution_count": 140,
   "id": "0b565485",
   "metadata": {},
   "outputs": [],
   "source": [
    "#1) Assume gaussian distribution for continuous features. Report the accuracies for each of the following case:\n",
    "\n",
    " # 1.1) 100 samples for training, and rest for validation set\n",
    " # 1.2) 1000 samples for training, and rest for validation set\n",
    "#For each of the above cases,\n",
    "#- Report how many total misclassification errors are there on the\n",
    "#training and validation sets, together with the confusion matrices."
   ]
  },
  {
   "cell_type": "code",
   "execution_count": 141,
   "id": "29e1c770",
   "metadata": {},
   "outputs": [
    {
     "name": "stdout",
     "output_type": "stream",
     "text": [
      "confusion matrix:  [[14, 1, 0], [14, 15, 26], [3, 4, 23]]\n",
      "total correct classification :  52\n",
      "total missclassification  :  48\n",
      "accuracy  :  0.52\n"
     ]
    },
    {
     "data": {
      "image/png": "[encoded data removed]",
      "text/plain": [
       "<Figure size 432x288 with 2 Axes>"
      ]
     },
     "metadata": {
      "needs_background": "light"
     },
     "output_type": "display_data"
    }
   ],
   "source": [
    "#1.1 answers for 100 instances\n",
    "# train for 100 instances\n",
    "cm100_train = gaussian_distribution(train100,validation100,\"Train\")"
   ]
  },
  {
   "cell_type": "code",
   "execution_count": 142,
   "id": "6ce26390",
   "metadata": {},
   "outputs": [
    {
     "name": "stdout",
     "output_type": "stream",
     "text": [
      "confusion matrix:  [[719, 88, 17], [468, 753, 1102], [56, 265, 609]]\n",
      "total correct classification :  2081\n",
      "total missclassification  :  1996\n",
      "accuracy  :  0.5104243316163846\n"
     ]
    },
    {
     "data": {
      "image/png": "[encoded data removed]",
      "text/plain": [
       "<Figure size 432x288 with 2 Axes>"
      ]
     },
     "metadata": {
      "needs_background": "light"
     },
     "output_type": "display_data"
    }
   ],
   "source": [
    "# validation for n-100 instances\n",
    "cm100_validation = gaussian_distribution(train100,validation100,\"Validation\")"
   ]
  },
  {
   "cell_type": "code",
   "execution_count": 145,
   "id": "88a239fe",
   "metadata": {},
   "outputs": [
    {
     "name": "stdout",
     "output_type": "stream",
     "text": [
      "confusion matrix:  [[177, 22, 3], [129, 263, 183], [17, 79, 127]]\n",
      "total correct classification :  567\n",
      "total missclassification  :  433\n",
      "accuracy  :  0.567\n"
     ]
    },
    {
     "data": {
      "image/png": "[encoded data removed]",
      "text/plain": [
       "<Figure size 432x288 with 2 Axes>"
      ]
     },
     "metadata": {
      "needs_background": "light"
     },
     "output_type": "display_data"
    }
   ],
   "source": [
    "#1.2) 1000 instances for Training Set and rest is Validation Set\n",
    "# train for 1000 instances\n",
    "\n",
    "cm1000_train = gaussian_distribution(train1000,validation1000,\"Train\")"
   ]
  },
  {
   "cell_type": "code",
   "execution_count": 146,
   "id": "e90ef82e",
   "metadata": {},
   "outputs": [
    {
     "name": "stdout",
     "output_type": "stream",
     "text": [
      "confusion matrix:  [[564, 69, 4], [379, 800, 624], [52, 323, 362]]\n",
      "total correct classification :  1726\n",
      "total missclassification  :  1451\n",
      "accuracy  :  0.5432798237330815\n"
     ]
    },
    {
     "data": {
      "image/png": "[encoded data removed]",
      "text/plain": [
       "<Figure size 432x288 with 2 Axes>"
      ]
     },
     "metadata": {
      "needs_background": "light"
     },
     "output_type": "display_data"
    }
   ],
   "source": [
    "#1.2) 1000 instances for Training Set and rest is Validation Set\n",
    "# validation for n-1000 instances\n",
    "\n",
    "cm1000_validation = gaussian_distribution(train1000,validation1000,\"Validation\")"
   ]
  },
  {
   "cell_type": "code",
   "execution_count": 147,
   "id": "b797dac9",
   "metadata": {},
   "outputs": [],
   "source": [
    "#ACCURACY RESULTS\n",
    "correct_100 = cm100_validation[0][0] + cm100_validation[1][1] + cm100_validation[2][2] + cm100_train[0][0] + cm100_train[1][1] + cm100_train[2][2]\n",
    "incorrect_100 = len(data) - correct_100\n",
    "\n",
    "correct_1000 = cm1000_validation[0][0] + cm1000_validation[1][1] + cm1000_validation[2][2] + cm1000_train[0][0] + cm1000_train[1][1] + cm1000_train[2][2]\n",
    "incorrect_1000 = len(data) - correct_1000\n"
   ]
  },
  {
   "cell_type": "code",
   "execution_count": 148,
   "id": "558e97cb",
   "metadata": {},
   "outputs": [],
   "source": [
    "accuracy_100_gaussian = round((correct_100 / (correct_100 + incorrect_100)),4)\n",
    "accuracy_1000_gaussian = round((correct_1000 / (correct_1000 + incorrect_1000)),4)"
   ]
  },
  {
   "cell_type": "code",
   "execution_count": 149,
   "id": "4320db22",
   "metadata": {},
   "outputs": [
    {
     "name": "stdout",
     "output_type": "stream",
     "text": [
      "For both Train and Validation\n",
      "\n",
      "Accuracy of 100 samples: 0.5107\n",
      "Accuracy of 1000 samples: 0.549\n"
     ]
    }
   ],
   "source": [
    "print(\"For both Train and Validation\\n\\nAccuracy of 100 samples:\", accuracy_100_gaussian)\n",
    "print(\"Accuracy of 1000 samples:\", accuracy_1000_gaussian)"
   ]
  },
  {
   "cell_type": "code",
   "execution_count": null,
   "id": "a073464a",
   "metadata": {},
   "outputs": [],
   "source": [
    "##### NAIVE ESTIMATOR #####"
   ]
  },
  {
   "cell_type": "code",
   "execution_count": 150,
   "id": "5e35273a",
   "metadata": {
    "scrolled": true
   },
   "outputs": [],
   "source": [
    "## build the idea at first for instances in the mylist\n",
    "\n",
    "mylist = [0,1,2,34,52,3,1234,32,54,2,123,5,123,223,1231,23,2,1,2,34,5,1,78,79,5,4,7,9,0,7,67,5,45,1]\n",
    "myclass = [1,2,3,1,2,3,1,2,3,1,2,3,1,2,3,1,2,3,1,2,3,1,1,1,1,1,1,1,1,1,1,1,1,1]\n",
    "len(mylist)\n",
    "intervals = []\n",
    "count = 0\n",
    "for i in range(len(mylist)):\n",
    "    for j in range(len(mylist)):\n",
    "        if mylist[j] <= mylist[i]+10 and mylist[j] >= mylist[i]-10:\n",
    "            count = count+1\n",
    "    intervals.append(count)\n",
    "    count=0"
   ]
  },
  {
   "cell_type": "code",
   "execution_count": 151,
   "id": "6db02c13",
   "metadata": {
    "scrolled": false
   },
   "outputs": [],
   "source": [
    "## count the number of instances between specified interval (interval is calculated by using h)\n",
    "\n",
    "def number_count(train100):\n",
    "\n",
    "    t100 = train100.reset_index(drop = True)\n",
    "\n",
    "    h_sizes = {\n",
    "        \"Length\"    : 0.1,\n",
    "        \"Diameter\"  : 0.1,\n",
    "        \"Height\"    : 0.05,\n",
    "        \"Whole Weight\"   : 0.1,\n",
    "        \"Shucked Weight\" : 0.1,\n",
    "        \"Viscera Weight\" : 0.1,\n",
    "        \"Shell Weight\"   : 0.1\n",
    "    }\n",
    "\n",
    "    train_values = {\n",
    "        \"Length\"    : { 0 : { 1: 0, 2: 0, 3: 0} },\n",
    "        \"Diameter\"  : { 0 : { 1: 0, 2: 0, 3: 0} },\n",
    "        \"Height\"    : { 0 : { 1: 0, 2: 0, 3: 0} },\n",
    "        \"Whole Weight\"   : { 0 : { 1: 0, 2: 0, 3: 0} },\n",
    "        \"Shucked Weight\" : { 0 : { 1: 0, 2: 0, 3: 0} },\n",
    "        \"Viscera Weight\" : { 0 : { 1: 0, 2: 0, 3: 0} },\n",
    "        \"Shell Weight\"   : { 0 : { 1: 0, 2: 0, 3: 0} }\n",
    "    }\n",
    "\n",
    "    keys = [] \n",
    "    for key in train_values.keys(): \n",
    "        keys.append(key) \n",
    "    count=0   \n",
    "    for key in keys:\n",
    "        for c in range(1,4):\n",
    "                for i in range(len(t100)):\n",
    "                    for j in range(len(t100)):\n",
    "                        if t100[key][j] <= t100[key][i] + h_sizes[key]  and t100[key][j] >= t100[key][i] - h_sizes[key] and t100[\"y\"][j] == c:\n",
    "                            count += 1\n",
    "                train_values[key][0][c] = count\n",
    "                count=0\n",
    "                    \n",
    "                \n",
    "    \n",
    "    return train_values"
   ]
  },
  {
   "cell_type": "code",
   "execution_count": 163,
   "id": "da9756c7",
   "metadata": {},
   "outputs": [],
   "source": [
    "# specify keys and values parameters for the above calculation\n",
    "values = number_count(train100)\n",
    "values\n",
    "keys = [] \n",
    "for key in train_values.keys(): \n",
    "    keys.append(key) "
   ]
  },
  {
   "cell_type": "code",
   "execution_count": 153,
   "id": "a19bcef3",
   "metadata": {},
   "outputs": [],
   "source": [
    "   # specify empty train_Values and determine h_size for each parameter\n",
    "    train_values = {\n",
    "        \"Length\"    : { 0 : { 1: 0, 2: 0, 3: 0} },\n",
    "        \"Diameter\"  : { 0 : { 1: 0, 2: 0, 3: 0} },\n",
    "        \"Height\"    : { 0 : { 1: 0, 2: 0, 3: 0} },\n",
    "        \"Whole Weight\"   : { 0 : { 1: 0, 2: 0, 3: 0} },\n",
    "        \"Shucked Weight\" : { 0 : { 1: 0, 2: 0, 3: 0} },\n",
    "        \"Viscera Weight\" : { 0 : { 1: 0, 2: 0, 3: 0} },\n",
    "        \"Shell Weight\"   : { 0 : { 1: 0, 2: 0, 3: 0} }\n",
    "    }\n",
    "    h_sizes = {\n",
    "        \"Length\"    : 0.2,\n",
    "        \"Diameter\"  : 0.2,\n",
    "        \"Height\"    : 0.3,\n",
    "        \"Whole Weight\"   : 0.1,\n",
    "        \"Shucked Weight\" : 0.1,\n",
    "        \"Viscera Weight\" : 0.2,\n",
    "        \"Shell Weight\"   : 0.2\n",
    "    }"
   ]
  },
  {
   "cell_type": "code",
   "execution_count": 102,
   "id": "6c09e187",
   "metadata": {},
   "outputs": [
    {
     "data": {
      "text/plain": [
       "{'Length': {0: {1: 0.0312, 2: 0.3267, 3: 0.134}},\n",
       " 'Diameter': {0: {1: 0.0965, 2: 0.9535, 3: 0.39025}},\n",
       " 'Height': {0: {1: 0.0621, 2: 0.4531, 3: 0.1719}},\n",
       " 'Whole Weight': {0: {1: 0.064, 2: 0.407, 3: 0.152}},\n",
       " 'Shucked Weight': {0: {1: 0.1535, 2: 0.8975, 3: 0.34}},\n",
       " 'Viscera Weight': {0: {1: 0.131, 2: 0.811, 3: 0.315}},\n",
       " 'Shell Weight': {0: {1: 0.0995, 2: 0.64925, 3: 0.21875}}}"
      ]
     },
     "execution_count": 102,
     "metadata": {},
     "output_type": "execute_result"
    }
   ],
   "source": [
    "## calculate the probabilities using the formula: (#of instances within specified interval)/(2*N*h)\n",
    "def calculate_probabilities(values,train100):\n",
    "    train_values = {\n",
    "        \"Length\"    : { 0 : { 1: 0, 2: 0, 3: 0} },\n",
    "        \"Diameter\"  : { 0 : { 1: 0, 2: 0, 3: 0} },\n",
    "        \"Height\"    : { 0 : { 1: 0, 2: 0, 3: 0} },\n",
    "        \"Whole Weight\"   : { 0 : { 1: 0, 2: 0, 3: 0} },\n",
    "        \"Shucked Weight\" : { 0 : { 1: 0, 2: 0, 3: 0} },\n",
    "        \"Viscera Weight\" : { 0 : { 1: 0, 2: 0, 3: 0} },\n",
    "        \"Shell Weight\"   : { 0 : { 1: 0, 2: 0, 3: 0} }\n",
    "    }\n",
    "    h_sizes = {\n",
    "        \"Length\"    : 0.5,\n",
    "        \"Diameter\"  : 0.2,\n",
    "        \"Height\"    : 0.5,\n",
    "        \"Whole Weight\"   : 0.1,\n",
    "        \"Shucked Weight\" : 0.1,\n",
    "        \"Viscera Weight\" : 0.2,\n",
    "        \"Shell Weight\"   : 0.2\n",
    "    }\n",
    "    \n",
    "    keys = [] \n",
    "    for key in train_values.keys(): \n",
    "        keys.append(key) \n",
    "\n",
    "\n",
    "    N = len(train100)*len(train100)\n",
    "    for key in keys:\n",
    "        for i in range(len(values)):\n",
    "            for c in range(1,4):\n",
    "                train_values[key][0][c] = values[key][0][c]/(2*N*h_sizes[key])\n",
    "                \n",
    "    return train_values\n",
    "\n",
    "probabilities = calculate_probabilities(values,train100)\n",
    "probabilities"
   ]
  },
  {
   "cell_type": "code",
   "execution_count": 164,
   "id": "7fc4fda9",
   "metadata": {},
   "outputs": [],
   "source": [
    "#calculate the predictions using naive estimator.\n",
    "def predict_naive(test, sex_likelihoods, values, y_prior, keys, h_sizes):\n",
    "    \n",
    "    predictions=[]\n",
    "    \n",
    "    for row in range(len(test)):\n",
    "        elementPrediction= [0,1,1,1]\n",
    "\n",
    "        for i in range(1,4):\n",
    "            if  (test.iat[row,0] == \"M\"): elementPrediction[i] *= sex_likelihoods[\"M\"][i]\n",
    "            elif(test.iat[row,0] == \"I\"): elementPrediction[i] *= sex_likelihoods[\"I\"][i]\n",
    "            elif(test.iat[row,0] == \"F\"): elementPrediction[i] *= sex_likelihoods[\"F\"][i]\n",
    "\n",
    "            for index in keys:\n",
    "            \n",
    "                elementPrediction[i] *= calculate_probabilities(values,train100)[index][0][i]\n",
    "            elementPrediction[i] *= y_prior[i]\n",
    "            elementPrediction[i] = round(elementPrediction[i],4)\n",
    "        predictions.append(elementPrediction.index(max(elementPrediction)))\n",
    "    return predictions\n",
    "\n"
   ]
  },
  {
   "cell_type": "code",
   "execution_count": 193,
   "id": "64b3d96e",
   "metadata": {},
   "outputs": [
    {
     "data": {
      "text/plain": [
       "[2, 2, 2, 2, 2]"
      ]
     },
     "execution_count": 193,
     "metadata": {},
     "output_type": "execute_result"
    }
   ],
   "source": [
    "#take a look at the predictions.\n",
    "first = predict_naive(train100, sex_likelihoods, values, y_prior, keys, h_sizes)\n",
    "first[0:5]"
   ]
  },
  {
   "cell_type": "code",
   "execution_count": 173,
   "id": "fa0e31e5",
   "metadata": {},
   "outputs": [],
   "source": [
    "## build the confusion matrix as requested in the question.\n",
    "def naive_estimator(test,train,validation,option,h_sizes,values,keys):    \n",
    "    \n",
    "    y_prior = calculate_y_prior(test)\n",
    "    sex_likelihoods = calculate_sex_likelihoods(test)\n",
    "    \n",
    "    if(option == \"Validation\"): test = validation\n",
    "    elif(option == \"Train\"): test = train\n",
    "    \n",
    "    predictions = predict_naive(test, sex_likelihoods, values, y_prior, keys, h_sizes)\n",
    "    confusion_matrix = result(predictions,test)\n",
    "    confusion_matrix\n",
    "    return confusion_matrix\n"
   ]
  },
  {
   "cell_type": "code",
   "execution_count": null,
   "id": "118a917a",
   "metadata": {},
   "outputs": [],
   "source": [
    "#### RESULTS FOR 2ND QUESTION #######"
   ]
  },
  {
   "cell_type": "code",
   "execution_count": 170,
   "id": "561aa266",
   "metadata": {},
   "outputs": [],
   "source": [
    "#2) Use Naive Estimator for each of the continuous feature. Determine the bin size for each feature with your own criterion. Report the accuracies for each of the following case:\n",
    "\n",
    " # 2.1) 100 samples for training, and rest for validation set\n",
    "  # 2.2) 1000 samples for training, and rest for validation set\n",
    "\n",
    "#For each of the above cases,\n",
    "# Report how many total misclassification errors are there on the\n",
    "# training and validation sets, together with the confusion matrices."
   ]
  },
  {
   "cell_type": "code",
   "execution_count": 175,
   "id": "64f1693f",
   "metadata": {},
   "outputs": [
    {
     "name": "stdout",
     "output_type": "stream",
     "text": [
      "confusion matrix:  [[0, 824, 0], [0, 2323, 0], [0, 930, 0]]\n",
      "total correct classification :  2323\n",
      "total missclassification  :  1754\n",
      "accuracy  :  0.5697817022320334\n"
     ]
    },
    {
     "data": {
      "text/plain": [
       "[[0, 824, 0], [0, 2323, 0], [0, 930, 0]]"
      ]
     },
     "execution_count": 175,
     "metadata": {},
     "output_type": "execute_result"
    },
    {
     "data": {
      "image/png": "[encoded data removed]",
      "text/plain": [
       "<Figure size 432x288 with 2 Axes>"
      ]
     },
     "metadata": {
      "needs_background": "light"
     },
     "output_type": "display_data"
    }
   ],
   "source": [
    "#2.1) validation\n",
    "\n",
    "confusion_100_valid = naive_estimator(data,train100,validation100,\"Validation\",h_sizes,values,keys)\n",
    "confusion_100_valid"
   ]
  },
  {
   "cell_type": "code",
   "execution_count": 176,
   "id": "7c696d76",
   "metadata": {},
   "outputs": [
    {
     "name": "stdout",
     "output_type": "stream",
     "text": [
      "confusion matrix:  [[0, 15, 0], [0, 55, 0], [0, 30, 0]]\n",
      "total correct classification :  55\n",
      "total missclassification  :  45\n",
      "accuracy  :  0.55\n"
     ]
    },
    {
     "data": {
      "text/plain": [
       "[[0, 15, 0], [0, 55, 0], [0, 30, 0]]"
      ]
     },
     "execution_count": 176,
     "metadata": {},
     "output_type": "execute_result"
    },
    {
     "data": {
      "image/png": "[encoded data removed]",
      "text/plain": [
       "<Figure size 432x288 with 2 Axes>"
      ]
     },
     "metadata": {
      "needs_background": "light"
     },
     "output_type": "display_data"
    }
   ],
   "source": [
    "#2.1) train\n",
    "confusion_100_train = naive_estimator(data,train100,validation100,\"Train\",h_sizes,values,keys)\n",
    "confusion_100_train"
   ]
  },
  {
   "cell_type": "code",
   "execution_count": 177,
   "id": "1edfe8b5",
   "metadata": {},
   "outputs": [
    {
     "name": "stdout",
     "output_type": "stream",
     "text": [
      "confusion matrix:  [[0, 637, 0], [0, 1803, 0], [0, 737, 0]]\n",
      "total correct classification :  1803\n",
      "total missclassification  :  1374\n",
      "accuracy  :  0.5675165250236072\n"
     ]
    },
    {
     "data": {
      "text/plain": [
       "[[0, 637, 0], [0, 1803, 0], [0, 737, 0]]"
      ]
     },
     "execution_count": 177,
     "metadata": {},
     "output_type": "execute_result"
    },
    {
     "data": {
      "image/png": "[encoded data removed]",
      "text/plain": [
       "<Figure size 432x288 with 2 Axes>"
      ]
     },
     "metadata": {
      "needs_background": "light"
     },
     "output_type": "display_data"
    }
   ],
   "source": [
    "#2.2) validation\n",
    "\n",
    "confusion_1000_valid = naive_estimator(data,train1000,validation1000,\"Validation\",h_sizes,values,keys)\n",
    "confusion_1000_valid"
   ]
  },
  {
   "cell_type": "code",
   "execution_count": 178,
   "id": "c97a3ffd",
   "metadata": {},
   "outputs": [
    {
     "name": "stdout",
     "output_type": "stream",
     "text": [
      "confusion matrix:  [[0, 202, 0], [0, 575, 0], [0, 223, 0]]\n",
      "total correct classification :  575\n",
      "total missclassification  :  425\n",
      "accuracy  :  0.575\n"
     ]
    },
    {
     "data": {
      "text/plain": [
       "[[0, 202, 0], [0, 575, 0], [0, 223, 0]]"
      ]
     },
     "execution_count": 178,
     "metadata": {},
     "output_type": "execute_result"
    },
    {
     "data": {
      "image/png": "[encoded data removed]",
      "text/plain": [
       "<Figure size 432x288 with 2 Axes>"
      ]
     },
     "metadata": {
      "needs_background": "light"
     },
     "output_type": "display_data"
    }
   ],
   "source": [
    "#2.2) train\n",
    "\n",
    "confusion_1000_train = naive_estimator(data,train1000,validation1000,\"Train\",h_sizes,values,keys)\n",
    "confusion_1000_train"
   ]
  },
  {
   "cell_type": "code",
   "execution_count": 180,
   "id": "6c43ed81",
   "metadata": {},
   "outputs": [],
   "source": [
    "# sum the number of true predictions and missclassification for training and validation for each case.\n",
    "\n",
    "true_100 = confusion_100_valid[0][0] + confusion_100_valid[1][1] + confusion_100_valid[2][2] + confusion_100_train[0][0] + confusion_100_train[1][1] + confusion_100_train[2][2]\n",
    "miss_100 = len(data) - true_100\n",
    "\n",
    "true_1000 = confusion_1000_valid[0][0] + confusion_1000_valid[1][1] + confusion_1000_valid[2][2] + confusion_1000_train[0][0] + confusion_1000_train[1][1] + confusion_1000_train[2][2]\n",
    "miss_1000 = len(data) - true_1000"
   ]
  },
  {
   "cell_type": "code",
   "execution_count": 184,
   "id": "acad44ce",
   "metadata": {},
   "outputs": [],
   "source": [
    "#calculate the accuracy of predictions.\n",
    "\n",
    "accuracy_100_naive = round((true_100 / (true_100 + miss_100)),4)\n",
    "accuracy_1000_naive = round((true_1000 / (true_1000 + miss_1000)),4)"
   ]
  },
  {
   "cell_type": "code",
   "execution_count": 185,
   "id": "2b814ab1",
   "metadata": {},
   "outputs": [
    {
     "name": "stdout",
     "output_type": "stream",
     "text": [
      "For both Train and Validation\n",
      "\n",
      "Accuracy of 100 samples: 0.5693\n",
      "Accuracy of 1000 samples: 0.5693\n"
     ]
    }
   ],
   "source": [
    "print(\"For both Train and Validation\\n\\nAccuracy of 100 samples:\", accuracy_100_naive)\n",
    "print(\"Accuracy of 1000 samples:\", accuracy_1000_naive)"
   ]
  }
 ],
 "metadata": {
  "kernelspec": {
   "display_name": "Python 3",
   "language": "python",
   "name": "python3"
  },
  "language_info": {
   "codemirror_mode": {
    "name": "ipython",
    "version": 3
   },
   "file_extension": ".py",
   "mimetype": "text/x-python",
   "name": "python",
   "nbconvert_exporter": "python",
   "pygments_lexer": "ipython3",
   "version": "3.8.8"
  }
 },
 "nbformat": 4,
 "nbformat_minor": 5
}
